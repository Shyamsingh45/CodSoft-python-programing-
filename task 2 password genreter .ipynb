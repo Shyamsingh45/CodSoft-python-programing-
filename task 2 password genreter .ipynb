{
  "nbformat": 4,
  "nbformat_minor": 0,
  "metadata": {
    "colab": {
      "provenance": []
    },
    "kernelspec": {
      "name": "python3",
      "display_name": "Python 3"
    },
    "language_info": {
      "name": "python"
    }
  },
  "cells": [
    {
      "cell_type": "code",
      "execution_count": null,
      "metadata": {
        "colab": {
          "base_uri": "https://localhost:8080/"
        },
        "id": "F2jgaogPzBNI",
        "outputId": "cf524c54-63c0-42b7-bf70-bd92cfb0b95b"
      },
      "outputs": [
        {
          "output_type": "stream",
          "name": "stdout",
          "text": [
            "\u001b[94mStarting Password Generator...\n",
            "\n",
            "\tLength of Password: 5\n",
            "\u001b[92mSelect Character type number from the list: \n",
            "\t 1  ---  ('Numbers',)\n",
            "\t 2  ---  ('Uppercases',)\n",
            "\t 3  ---  ('Lowercases',)\n",
            "\t 4  ---  ('Symbols',)\n",
            "\t 5  ---  ('Numbers', 'Uppercases')\n",
            "\t 6  ---  ('Numbers', 'Lowercases')\n",
            "\t 7  ---  ('Numbers', 'Symbols')\n",
            "\t 8  ---  ('Uppercases', 'Lowercases')\n",
            "\t 9  ---  ('Uppercases', 'Symbols')\n",
            "\t 10  ---  ('Lowercases', 'Symbols')\n",
            "\t 11  ---  ('Numbers', 'Uppercases', 'Lowercases')\n",
            "\t 12  ---  ('Numbers', 'Uppercases', 'Symbols')\n",
            "\t 13  ---  ('Numbers', 'Lowercases', 'Symbols')\n",
            "\t 14  ---  ('Uppercases', 'Lowercases', 'Symbols')\n",
            "\t 15  ---  ('Numbers', 'Uppercases', 'Lowercases', 'Symbols')\n",
            "\u001b[94m\n"
          ]
        }
      ],
      "source": [
        "import itertools as it\n",
        "import random\n",
        "import pyperclip\n",
        "\n",
        "\n",
        "class bcolors:\n",
        "    HEADER = '\\033[95m'\n",
        "    OKBLUE = '\\033[94m'\n",
        "    OKCYAN = '\\033[96m'\n",
        "    OKGREEN = '\\033[92m'\n",
        "    WARNING = '\\033[93m'\n",
        "    FAIL = '\\033[91m'\n",
        "    ENDC = '\\033[0m'\n",
        "    BOLD = '\\033[1m'\n",
        "    UNDERLINE = '\\033[4m'\n",
        "\n",
        "## Welcoming\n",
        "print(bcolors.OKBLUE + \"Starting Password Generator...\")\n",
        "print(\"\")\n",
        "\n",
        "characters = {\n",
        "    \"Uppercases\": ['ABCDEFGHIJKLMNOPQRSTUVWXYZ'],\n",
        "    \"Lowercases\": ['abcdefghijklmnopqyrstuvwxyz'],\n",
        "    \"Numbers\": ['0123456789'],\n",
        "    \"Symbols\": ['!@#$&*?_-'],\n",
        "}\n",
        "\n",
        "while True:\n",
        "    try:\n",
        "        n = int(input(\"\\tLength of Password: \"))\n",
        "        break\n",
        "    except ValueError:\n",
        "        print(bcolors.FAIL + \"Entered Value should be integer only\")\n",
        "        print(\"Restarting the program...\")\n",
        "        print(bcolors.OKBLUE + \"\")\n",
        "        pass\n",
        "\n",
        "def gen_pass(n):\n",
        "    print(bcolors.OKGREEN + \"Select Character type number from the list: \")\n",
        "    arr = [\"Numbers\", \"Uppercases\", \"Lowercases\", \"Symbols\"]\n",
        "    l1 = list(it.combinations(arr, 1))\n",
        "    l2 = list(it.combinations(arr, 2))\n",
        "    l3 = list(it.combinations(arr, 3))\n",
        "    l4 = list(it.combinations(arr, 4))\n",
        "    l = l1 + l2 + l3 + l4  # list of all the possible combinations of characters\n",
        "    for i in range(len(l)):\n",
        "        print(\"\\t\",i+1, \" --- \", l[i])\n",
        "    print(bcolors.OKBLUE + \"\")\n",
        "    while True:\n",
        "        c_type = int(input(\"Type any serial number from the above list of combinations: \"))\n",
        "        if c_type in range(1, 16):\n",
        "            break\n",
        "        else:\n",
        "            print(bcolors.HEADER + \"Serial number should be from 1 to 15...\")\n",
        "            print(bcolors.OKBLUE + \"\")\n",
        "\n",
        "     ## Generating password with selected combination\n",
        "    s_comb_l = [i for i in list(l[c_type - 1])] # selected character combination list\n",
        "    print(s_comb_l)\n",
        "    c_per_pass = n // len(s_comb_l)\n",
        "    extra_c = n - (c_per_pass * len(s_comb_l))\n",
        "    password_l = []\n",
        "    all_char = []\n",
        "    for i in range(0, len(s_comb_l)):\n",
        "        x = s_comb_l[i]\n",
        "        z = characters[x][0]\n",
        "        l = [char for char in z]\n",
        "        all_char.extend(l)\n",
        "        c =  random.choices(l, k = c_per_pass)\n",
        "        password_l.extend(c)\n",
        "    e_c = random.choices(all_char, k = extra_c)\n",
        "    password_l.extend(e_c)\n",
        "    random.shuffle(password_l)\n",
        "    password = \"\".join(password_l)\n",
        "    print(bcolors.HEADER+ \"Your password: \", password)\n",
        "    pyperclip.copy(password)\n",
        "    print(bcolors.OKCYAN+ \"Your password is copied to your clipboard.\")\n",
        "\n",
        "\n",
        "gen_pass(n)"
      ]
    }
  ]
}
